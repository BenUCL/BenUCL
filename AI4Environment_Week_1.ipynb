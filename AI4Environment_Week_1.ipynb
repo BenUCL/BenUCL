{
  "nbformat": 4,
  "nbformat_minor": 0,
  "metadata": {
    "colab": {
      "provenance": [],
      "authorship_tag": "ABX9TyOpUJcjByFEJprp4M24aVr7",
      "include_colab_link": true
    },
    "kernelspec": {
      "name": "python3",
      "display_name": "Python 3"
    },
    "language_info": {
      "name": "python"
    }
  },
  "cells": [
    {
      "cell_type": "markdown",
      "metadata": {
        "id": "view-in-github",
        "colab_type": "text"
      },
      "source": [
        "<a href=\"https://colab.research.google.com/github/BenUCL/BenUCL/blob/main/AI4Environment_Week_1.ipynb\" target=\"_parent\"><img src=\"https://colab.research.google.com/assets/colab-badge.svg\" alt=\"Open In Colab\"/></a>"
      ]
    },
    {
      "cell_type": "markdown",
      "source": [
        "Notes for Santiago and Omi\n",
        "\n",
        "\n",
        "*   Recommend this 3min vid for students who want to a quick taste before the lab: https://www.youtube.com/watch?v=inN8seMm7UI\n",
        "*   Santiago to introduce the concept of colab (e.g online programming env) and details (e.g 90 min inactivity time out, free GPU etc).\n",
        "\n"
      ],
      "metadata": {
        "id": "3fQzOEt44YI0"
      }
    },
    {
      "cell_type": "markdown",
      "source": [
        "# **Week 1 Colab notebook**\n",
        "\n",
        "# In this weeks Colab notebook we will learn all the basics of Google Colaboratory which will be needed for this module, including:\n",
        "\n",
        "\n",
        "1. How to create and save your own notebooks\n",
        "2. How notebooks are formatted\n",
        "3. How to run some simple code\n",
        "4. How to install and import packages\n",
        "5. How to download datasets\n",
        "6. How to connect to your Google Drive account\n",
        "7. How to view data\n",
        "8. How to access Colabs free GPU feature\n",
        "\n",
        "Future labs will be run in Colab so this will help get you up to speed. There are plenty of other resources online which can help you learn more should you need, here is a good starting point: https://colab.research.google.com/notebooks/intro.ipynb#scrollTo=-Rh3-Vt9Nev9\n",
        "\n",
        "\n"
      ],
      "metadata": {
        "id": "XefI4BtS4wIS"
      }
    },
    {
      "cell_type": "markdown",
      "source": [
        "# 1. How to create and save your own notebooks\n",
        "\n",
        "You likely accessed this notebook from the course github page"
      ],
      "metadata": {
        "id": "Uc7p4che7yEU"
      }
    },
    {
      "cell_type": "code",
      "execution_count": null,
      "metadata": {
        "id": "HHOH3zSQ3iU6"
      },
      "outputs": [],
      "source": []
    },
    {
      "cell_type": "code",
      "source": [],
      "metadata": {
        "id": "0qPkKndS3wLB"
      },
      "execution_count": null,
      "outputs": []
    }
  ]
}